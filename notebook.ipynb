{
 "cells": [
  {
   "cell_type": "code",
   "outputs": [],
   "source": [
    "import torch\n",
    "import pickle\n",
    "import numpy as np\n",
    "import pandas as pd\n",
    "import matplotlib.pyplot as plt\n",
    "from abnumber import Chain"
   ],
   "metadata": {
    "collapsed": false,
    "ExecuteTime": {
     "end_time": "2024-07-16T05:44:00.599349Z",
     "start_time": "2024-07-16T05:44:00.596142Z"
    }
   },
   "id": "a05481196f8572f4",
   "execution_count": 3
  },
  {
   "cell_type": "code",
   "outputs": [],
   "source": [
    "config = {\n",
    "    \"embedding\": (\"berty\", 512),\n",
    "    # [(\"berty\", 512), (\"ab\", 768), (\"prot\", 1024), (\"balm\", 640), (\"esm\", 1280), (\"ig\", 1024)]\n",
    "    \"input_type\": \"chain\",  # [\"cdr\", \"chain\"]\n",
    "    \"max_len\": 150,  # [35, 150]\n",
    "}"
   ],
   "metadata": {
    "collapsed": false,
    "ExecuteTime": {
     "end_time": "2024-07-16T05:44:01.146640Z",
     "start_time": "2024-07-16T05:44:01.143055Z"
    }
   },
   "id": "8250b977362cbd98",
   "execution_count": 4
  },
  {
   "cell_type": "code",
   "outputs": [],
   "source": [
    "with open(\"embeddings/embeddings.p\", \"rb\") as f:\n",
    "    embedding_dict = pickle.load(f)\n",
    "\n",
    "with open(\"embeddings/ab_embeddings.p\", \"rb\") as f:\n",
    "    ab_embedding_dict = pickle.load(f)\n",
    "\n",
    "with open(\"embeddings/prot_embeddings.p\", \"rb\") as f:\n",
    "    prot_embedding_dict = pickle.load(f)\n",
    "\n",
    "with open(\"embeddings/balm_embeddings.p\", \"rb\") as f:\n",
    "    balm_embedding_dict = pickle.load(f)\n",
    "\n",
    "with open(\"embeddings/esm_embeddings.p\", \"rb\") as f:\n",
    "    esm_embedding_dict = pickle.load(f)\n",
    "\n",
    "with open(\"embeddings/ig_embeddings.p\", \"rb\") as f:\n",
    "    ig_embedding_dict = pickle.load(f)\n",
    "\n",
    "\n",
    "def encode(sequence, pos, config):\n",
    "    encoded = torch.zeros((config['max_len'], config['embedding'][1] + 7))\n",
    "    if config['embedding'][0] == 'berty':\n",
    "        encoded[:len(sequence)] = torch.cat((embedding_dict[sequence].cpu(), pos[:len(sequence)]), dim=1)\n",
    "    elif config['embedding'][0] == 'ab':\n",
    "        encoded[:len(sequence)] = torch.cat((torch.tensor(ab_embedding_dict[sequence]), pos[:len(sequence)]), dim=1)\n",
    "    elif config['embedding'][0] == 'prot':\n",
    "        encoded[:len(sequence)] = torch.cat((prot_embedding_dict[sequence], pos[:len(sequence)]), dim=1)\n",
    "    elif config['embedding'][0] == 'balm':\n",
    "        encoded[:len(sequence)] = torch.cat((balm_embedding_dict[sequence], pos[:len(sequence)]), dim=1)\n",
    "    elif config['embedding'][0] == 'ig':\n",
    "        encoded[:len(sequence)] = torch.cat((ig_embedding_dict[sequence][:, 0, :].squeeze(1), pos[:len(sequence)]), dim=1)\n",
    "    elif config['embedding'][0] == 'esm':\n",
    "        encoded[:len(sequence)] = torch.cat((esm_embedding_dict[sequence], pos[:len(sequence)]), dim=1)\n",
    "    else:\n",
    "        print(\"Not Proper embedding name selected!\")\n",
    "        exit()\n",
    "\n",
    "    return encoded\n",
    "\n",
    "def encode_batch(batch_of_sequences, positions, encoder, config):\n",
    "    embeddings = [encoder(seq, pos, config) for seq, pos in zip(batch_of_sequences, positions)]\n",
    "    seq_lens = [len(seq) for seq in batch_of_sequences]\n",
    "    return torch.stack(embeddings), torch.as_tensor(seq_lens)"
   ],
   "metadata": {
    "collapsed": false,
    "ExecuteTime": {
     "end_time": "2024-07-16T05:44:04.026156Z",
     "start_time": "2024-07-16T05:44:01.555174Z"
    }
   },
   "id": "80a462c941c21ef",
   "execution_count": 5
  },
  {
   "cell_type": "markdown",
   "source": [
    "### for Predicting Whole dataset"
   ],
   "metadata": {
    "collapsed": false
   },
   "id": "6ad12e74d0b4348d"
  },
  {
   "cell_type": "code",
   "outputs": [
    {
     "data": {
      "text/plain": "<Figure size 640x480 with 1 Axes>",
      "image/png": "[encoded data removed]"
     },
     "metadata": {},
     "output_type": "display_data"
    }
   ],
   "source": [
    "from data.data_loader import get_positions, to_binary, pad_position_list\n",
    "from utils import initiate_system_device\n",
    "\n",
    "# Load Data\n",
    "df = pd.read_csv(\"data/chains_parapred.csv\")\n",
    "chains = [x for x in df['sequence'].tolist()]\n",
    "positions = [torch.tensor(pad_position_list(p, config['max_len'])) for p in get_positions(df)]\n",
    "labels = [to_binary(x, config['max_len']) for x in df['paratope'].tolist()]\n",
    "\n",
    "# Load model\n",
    "device = initiate_system_device()\n",
    "model = torch.load(f\"best_models/{config['input_type']}_{config['embedding'][0]}.pth\").to(device)\n",
    "with open(f\"best_models/{config['input_type']}_{config['embedding'][0]}_tresh.txt\", \"r\") as f:\n",
    "    tresh = float(f.read())\n",
    "\n",
    "# Predict Paratopes\n",
    "embeddings, lengths = encode_batch(chains, positions, encode, config)\n",
    "embeddings = embeddings.to(device)\n",
    "probabilities = model(embeddings).squeeze(2).type(torch.float64).cpu()\n",
    "\n",
    "# Plot Heatmap\n",
    "plt.imshow(probabilities.detach().numpy()[:100], cmap='hot')\n",
    "plt.axis('off')\n",
    "plt.savefig(f\"figures/{config['input_type']}_heatmap.tiff\", dpi=300, format=\"tiff\", pil_kwargs={\"compression\": \"tiff_lzw\"}, bbox_inches='tight', pad_inches=0)\n",
    "plt.show()"
   ],
   "metadata": {
    "collapsed": false,
    "ExecuteTime": {
     "end_time": "2024-07-16T05:44:05.962824Z",
     "start_time": "2024-07-16T05:44:04.027818Z"
    }
   },
   "id": "87571e435beb7196",
   "execution_count": 6
  },
  {
   "cell_type": "markdown",
   "source": [
    "### Input a Seq"
   ],
   "metadata": {
    "collapsed": false
   },
   "id": "a6386ec0fc57fa57"
  },
  {
   "cell_type": "code",
   "outputs": [],
   "source": [
    "def get_chain_pos(input_seq):\n",
    "    chain = Chain(input_seq, scheme='chothia')\n",
    "    \n",
    "    poses = []\n",
    "    for p in chain.positions:\n",
    "        if chain.is_heavy_chain():\n",
    "            if p in chain.cdr1_dict or p in list(chain.fr1_dict.keys)[-2:] or p in list(chain.fr2_dict.keys)[:2]:\n",
    "                poses.append([1, 0, 0, 0, 0, 0, 0])\n",
    "            elif p in chain.cdr2_dict or p in list(chain.fr2_dict.keys())[-2:] or p in list(chain.fr3_dict.keys())[:2]:\n",
    "                poses.append([0, 1, 0, 0, 0, 0, 0])\n",
    "            elif p in chain.cdr3_dict or p in list(chain.fr3_dict.keys())[-2:] or p in list(chain.fr4_dict.keys())[:2]:\n",
    "                poses.append([0, 0, 1, 0, 0, 0, 0])\n",
    "            else:\n",
    "                poses.append([0, 0, 0, 0, 0, 0, 1])\n",
    "        else:\n",
    "            if p in chain.cdr1_dict or p in list(chain.fr1_dict.keys())[-2:] or p in list(chain.fr2_dict.keys())[:2]:\n",
    "                poses.append([0, 0, 0, 1, 0, 0, 0])\n",
    "            elif p in chain.cdr2_dict or p in list(chain.fr2_dict.keys())[-2:] or p in list(chain.fr3_dict.keys())[:2]:\n",
    "                poses.append([0, 0, 0, 0, 1, 0, 0])\n",
    "            elif p in chain.cdr3_dict or p in list(chain.fr3_dict.keys())[-2:] or p in list(chain.fr4_dict.keys())[:2]:\n",
    "                poses.append([0, 0, 0, 0, 0, 1, 0])\n",
    "            else:\n",
    "                poses.append([0, 0, 0, 0, 0, 0, 1])\n",
    "    \n",
    "    return torch.tensor(np.vstack((np.array(poses), np.array([[0, 0, 0, 0, 0, 0, 0] for _ in range(config['max_len'] - len(input_seq))]))))\n",
    "\n",
    "def get_cdr_pos(seq, cdr):\n",
    "    cdrs = ['L1', 'L2', 'L3', 'H1', 'H2', 'H3', 'XX']\n",
    "    zero_list = [0, 0, 0, 0, 0, 0, 0]\n",
    "    zero_list[cdrs.index(cdr)] = 1\n",
    "    position = np.array([zero_list for _ in range(len(seq))])\n",
    "    return torch.tensor(np.vstack((position, np.array([[0, 0, 0, 0, 0, 0, 0] for _ in range(config['max_len'] - len(seq))]))))"
   ],
   "metadata": {
    "collapsed": false,
    "ExecuteTime": {
     "end_time": "2024-07-16T05:45:30.319260Z",
     "start_time": "2024-07-16T05:45:30.301911Z"
    }
   },
   "id": "ddb1595ffddce424",
   "execution_count": 10
  },
  {
   "cell_type": "code",
   "outputs": [],
   "source": [
    "def get_embeddings(seq, cdr):\n",
    "    encoded = torch.zeros((config['max_len'], config['embedding'][1] + 7))\n",
    "    if config['input_type'] == 'cdr':\n",
    "        pos = get_cdr_pos(seq, cdr)[:len(seq)]\n",
    "    else:\n",
    "        pos = get_chain_pos(seq)\n",
    "    emb = None\n",
    "\n",
    "    if config['embedding'][0] == 'berty':\n",
    "        from igfold import IgFoldRunner\n",
    "        igfold = IgFoldRunner()\n",
    "        emb = igfold.embed(sequences={\"Seq\": seq}).bert_embs.cpu()\n",
    "    elif config['embedding'][0] == 'ab':\n",
    "        import ablang\n",
    "        if cdr[0] == 'H':\n",
    "            heavy_ablang = ablang.pretrained(\"heavy\")\n",
    "            heavy_ablang.freeze()\n",
    "            emb = torch.tensor(heavy_ablang([seq], mode='rescoding'))\n",
    "        else:\n",
    "            light_ablang = ablang.pretrained(\"light\")\n",
    "            light_ablang.freeze()\n",
    "            emb = torch.tensor(light_ablang([seq], mode='rescoding'))\n",
    "    elif config['embedding'][0] == 'prot':\n",
    "        from transformers import T5Tokenizer, T5EncoderModel\n",
    "\n",
    "        tokenizer = T5Tokenizer.from_pretrained('Rostlab/prot_t5_xl_half_uniref50-enc', do_lower_case=False)\n",
    "        model = T5EncoderModel.from_pretrained(\"Rostlab/prot_t5_xl_half_uniref50-enc\")\n",
    "        \n",
    "        ids = tokenizer([\" \".join(list(seq))], return_tensors=\"pt\")\n",
    "        emb = model(input_ids=ids['input_ids'], attention_mask=ids['attention_mask']).last_hidden_state[0, :-1]\n",
    "    elif config['embedding'][0] == 'balm':\n",
    "        from embeddings.BALM.modeling_balm import BALMForMaskedLM\n",
    "        from transformers import EsmTokenizer\n",
    "        import torch\n",
    "        \n",
    "        tokenizer = EsmTokenizer.from_pretrained(\"BALM/tokenizer/vocab.txt\", do_lower_case=False)\n",
    "        model = BALMForMaskedLM.from_pretrained(\"./BALM/pretrained-BALM/\")\n",
    "        \n",
    "        tokenizer_input = tokenizer(seq, return_tensors=\"pt\", add_special_tokens=False)\n",
    "        emb = model(**tokenizer_input, return_dict=True, output_hidden_states=True, output_attentions=True).hidden_states[-1].squeeze(0)\n",
    "    elif config['embedding'][0] == 'ig':\n",
    "        from transformers import BertModel, BertTokenizer\n",
    "\n",
    "        tokeniser = BertTokenizer.from_pretrained(\"Exscientia/IgBert_unpaired\", do_lower_case=False)\n",
    "        model = BertModel.from_pretrained(\"Exscientia/IgBert_unpaired\", add_pooling_layer=False)\n",
    "        \n",
    "        sequences = [' '.join(c) for c in seq]\n",
    "        tokens = tokeniser.batch_encode_plus(\n",
    "            sequences,\n",
    "            add_special_tokens=True,\n",
    "            pad_to_max_length=True,\n",
    "            return_tensors=\"pt\",\n",
    "            return_special_tokens_mask=True\n",
    "        )\n",
    "        emb = model(\n",
    "            input_ids=tokens['input_ids'],\n",
    "            attention_mask=tokens['attention_mask']\n",
    "        ).last_hidden_state[:, 0, :].squeeze(1)\n",
    "    elif config['embedding'][0] == 'esm':\n",
    "        import esm\n",
    "\n",
    "        model, alphabet = esm.pretrained.esm2_t48_15B_UR50D()\n",
    "        batch_converter = alphabet.get_batch_converter()\n",
    "        model.eval()  # disables dropout for deterministic results\n",
    "        \n",
    "        batch_labels, batch_strs, batch_tokens = batch_converter([(\"\", seq)])\n",
    "        \n",
    "        with torch.no_grad():\n",
    "            emb = model(batch_tokens, repr_layers=[33], return_contacts=True)[\"representations\"][0, 1: -1]\n",
    "        \n",
    "    encoded[:len(seq)] = torch.cat((emb, pos), dim=1)\n",
    "    return encoded"
   ],
   "metadata": {
    "collapsed": false
   },
   "id": "b165984970f39b16"
  },
  {
   "cell_type": "code",
   "outputs": [
    {
     "ename": "UnboundLocalError",
     "evalue": "cannot access local variable 'torch' where it is not associated with a value",
     "output_type": "error",
     "traceback": [
      "\u001B[0;31m---------------------------------------------------------------------------\u001B[0m",
      "\u001B[0;31mUnboundLocalError\u001B[0m                         Traceback (most recent call last)",
      "Cell \u001B[0;32mIn[11], line 5\u001B[0m\n\u001B[1;32m      2\u001B[0m seq \u001B[38;5;241m=\u001B[39m \u001B[38;5;124m'\u001B[39m\u001B[38;5;124mDIQMTQSPSSLSASVGDRVTITCRASQSISNYLNWYQQKPGKAPKLLIYTASTLQSGVPSRFSGSASGTDFTLTINSLQPEDFATYSCQQSYNSPWTFGQGTKVEIK\u001B[39m\u001B[38;5;124m'\u001B[39m\n\u001B[1;32m      3\u001B[0m cdr \u001B[38;5;241m=\u001B[39m \u001B[38;5;124m'\u001B[39m\u001B[38;5;124mL1\u001B[39m\u001B[38;5;124m'\u001B[39m \u001B[38;5;66;03m# ['L1', 'L2', 'L3', 'H1', 'H2', 'H3', 'XX']\u001B[39;00m\n\u001B[0;32m----> 5\u001B[0m embedding \u001B[38;5;241m=\u001B[39m get_embeddings(seq, cdr)\u001B[38;5;241m.\u001B[39mto(device)\n\u001B[1;32m      6\u001B[0m embedding \u001B[38;5;241m=\u001B[39m torch\u001B[38;5;241m.\u001B[39munsqueeze(embedding, \u001B[38;5;241m0\u001B[39m)\n\u001B[1;32m      7\u001B[0m probabilities \u001B[38;5;241m=\u001B[39m model(embedding)\u001B[38;5;241m.\u001B[39msqueeze(\u001B[38;5;241m2\u001B[39m)\u001B[38;5;241m.\u001B[39mtype(torch\u001B[38;5;241m.\u001B[39mfloat64)\u001B[38;5;241m.\u001B[39mcpu()\n",
      "Cell \u001B[0;32mIn[10], line 37\u001B[0m, in \u001B[0;36mget_embeddings\u001B[0;34m(seq, cdr)\u001B[0m\n\u001B[1;32m     36\u001B[0m \u001B[38;5;28;01mdef\u001B[39;00m \u001B[38;5;21mget_embeddings\u001B[39m(seq, cdr):\n\u001B[0;32m---> 37\u001B[0m     encoded \u001B[38;5;241m=\u001B[39m torch\u001B[38;5;241m.\u001B[39mzeros((config[\u001B[38;5;124m'\u001B[39m\u001B[38;5;124mmax_len\u001B[39m\u001B[38;5;124m'\u001B[39m], config[\u001B[38;5;124m'\u001B[39m\u001B[38;5;124membedding\u001B[39m\u001B[38;5;124m'\u001B[39m][\u001B[38;5;241m1\u001B[39m] \u001B[38;5;241m+\u001B[39m \u001B[38;5;241m7\u001B[39m))\n\u001B[1;32m     38\u001B[0m     \u001B[38;5;28;01mif\u001B[39;00m config[\u001B[38;5;124m'\u001B[39m\u001B[38;5;124minput_type\u001B[39m\u001B[38;5;124m'\u001B[39m] \u001B[38;5;241m==\u001B[39m \u001B[38;5;124m'\u001B[39m\u001B[38;5;124mcdr\u001B[39m\u001B[38;5;124m'\u001B[39m:\n\u001B[1;32m     39\u001B[0m         pos \u001B[38;5;241m=\u001B[39m get_cdr_pos(seq, cdr)[:\u001B[38;5;28mlen\u001B[39m(seq)]\n",
      "\u001B[0;31mUnboundLocalError\u001B[0m: cannot access local variable 'torch' where it is not associated with a value"
     ]
    }
   ],
   "source": [
    "# seq = 'ASGYTFTSYWI'\n",
    "seq = 'DIQMTQSPSSLSASVGDRVTITCRASQSISNYLNWYQQKPGKAPKLLIYTASTLQSGVPSRFSGSASGTDFTLTINSLQPEDFATYSCQQSYNSPWTFGQGTKVEIK'\n",
    "cdr = 'L1' # ['L1', 'L2', 'L3', 'H1', 'H2', 'H3', 'XX'] Does not care when it is Chain and input XX if you don't know where does it belong\n",
    "\n",
    "embedding = get_embeddings(seq, cdr).to(device)\n",
    "embedding = torch.unsqueeze(embedding, 0)\n",
    "probabilities = model(embedding).squeeze(2).type(torch.float64).cpu()\n",
    "\n",
    "for s, p in zip(seq, probabilities.tolist()[0]):\n",
    "    print(s, '\\t', round(p, 5))"
   ],
   "metadata": {
    "collapsed": false,
    "ExecuteTime": {
     "end_time": "2024-07-16T05:45:31.416788Z",
     "start_time": "2024-07-16T05:45:31.241390Z"
    }
   },
   "id": "5957a63d15adb7e5",
   "execution_count": 11
  }
 ],
 "metadata": {
  "kernelspec": {
   "display_name": "Python 3",
   "language": "python",
   "name": "python3"
  },
  "language_info": {
   "codemirror_mode": {
    "name": "ipython",
    "version": 2
   },
   "file_extension": ".py",
   "mimetype": "text/x-python",
   "name": "python",
   "nbconvert_exporter": "python",
   "pygments_lexer": "ipython2",
   "version": "2.7.6"
  }
 },
 "nbformat": 4,
 "nbformat_minor": 5
}
